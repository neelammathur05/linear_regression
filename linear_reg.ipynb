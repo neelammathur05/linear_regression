{
 "cells": [
  {
   "cell_type": "code",
   "execution_count": 2,
   "metadata": {},
   "outputs": [],
   "source": [
    "# simple linear Regression \n",
    "import pandas as pd\n",
    "import numpy as np \n",
    "import matplotlib.pyplot as plt\n",
    "%matplotlib inline"
   ]
  },
  {
   "cell_type": "code",
   "execution_count": 6,
   "metadata": {},
   "outputs": [
    {
     "data": {
      "text/html": [
       "<div>\n",
       "<style scoped>\n",
       "    .dataframe tbody tr th:only-of-type {\n",
       "        vertical-align: middle;\n",
       "    }\n",
       "\n",
       "    .dataframe tbody tr th {\n",
       "        vertical-align: top;\n",
       "    }\n",
       "\n",
       "    .dataframe thead th {\n",
       "        text-align: right;\n",
       "    }\n",
       "</style>\n",
       "<table border=\"1\" class=\"dataframe\">\n",
       "  <thead>\n",
       "    <tr style=\"text-align: right;\">\n",
       "      <th></th>\n",
       "      <th>MODELYEAR</th>\n",
       "      <th>MAKE</th>\n",
       "      <th>MODEL</th>\n",
       "      <th>VEHICLECLASS</th>\n",
       "      <th>ENGINESIZE</th>\n",
       "      <th>CYLINDERS</th>\n",
       "      <th>TRANSMISSION</th>\n",
       "      <th>FUELTYPE</th>\n",
       "      <th>FUELCONSUMPTION_CITY</th>\n",
       "      <th>FUELCONSUMPTION_HWY</th>\n",
       "      <th>FUELCONSUMPTION_COMB</th>\n",
       "      <th>FUELCONSUMPTION_COMB_MPG</th>\n",
       "      <th>CO2EMISSIONS</th>\n",
       "    </tr>\n",
       "  </thead>\n",
       "  <tbody>\n",
       "    <tr>\n",
       "      <th>0</th>\n",
       "      <td>2014</td>\n",
       "      <td>ACURA</td>\n",
       "      <td>ILX</td>\n",
       "      <td>COMPACT</td>\n",
       "      <td>2.0</td>\n",
       "      <td>4</td>\n",
       "      <td>AS5</td>\n",
       "      <td>Z</td>\n",
       "      <td>9.9</td>\n",
       "      <td>6.7</td>\n",
       "      <td>8.5</td>\n",
       "      <td>33</td>\n",
       "      <td>196</td>\n",
       "    </tr>\n",
       "    <tr>\n",
       "      <th>1</th>\n",
       "      <td>2014</td>\n",
       "      <td>ACURA</td>\n",
       "      <td>ILX</td>\n",
       "      <td>COMPACT</td>\n",
       "      <td>2.4</td>\n",
       "      <td>4</td>\n",
       "      <td>M6</td>\n",
       "      <td>Z</td>\n",
       "      <td>11.2</td>\n",
       "      <td>7.7</td>\n",
       "      <td>9.6</td>\n",
       "      <td>29</td>\n",
       "      <td>221</td>\n",
       "    </tr>\n",
       "    <tr>\n",
       "      <th>2</th>\n",
       "      <td>2014</td>\n",
       "      <td>ACURA</td>\n",
       "      <td>ILX HYBRID</td>\n",
       "      <td>COMPACT</td>\n",
       "      <td>1.5</td>\n",
       "      <td>4</td>\n",
       "      <td>AV7</td>\n",
       "      <td>Z</td>\n",
       "      <td>6.0</td>\n",
       "      <td>5.8</td>\n",
       "      <td>5.9</td>\n",
       "      <td>48</td>\n",
       "      <td>136</td>\n",
       "    </tr>\n",
       "    <tr>\n",
       "      <th>3</th>\n",
       "      <td>2014</td>\n",
       "      <td>ACURA</td>\n",
       "      <td>MDX 4WD</td>\n",
       "      <td>SUV - SMALL</td>\n",
       "      <td>3.5</td>\n",
       "      <td>6</td>\n",
       "      <td>AS6</td>\n",
       "      <td>Z</td>\n",
       "      <td>12.7</td>\n",
       "      <td>9.1</td>\n",
       "      <td>11.1</td>\n",
       "      <td>25</td>\n",
       "      <td>255</td>\n",
       "    </tr>\n",
       "    <tr>\n",
       "      <th>4</th>\n",
       "      <td>2014</td>\n",
       "      <td>ACURA</td>\n",
       "      <td>RDX AWD</td>\n",
       "      <td>SUV - SMALL</td>\n",
       "      <td>3.5</td>\n",
       "      <td>6</td>\n",
       "      <td>AS6</td>\n",
       "      <td>Z</td>\n",
       "      <td>12.1</td>\n",
       "      <td>8.7</td>\n",
       "      <td>10.6</td>\n",
       "      <td>27</td>\n",
       "      <td>244</td>\n",
       "    </tr>\n",
       "  </tbody>\n",
       "</table>\n",
       "</div>"
      ],
      "text/plain": [
       "   MODELYEAR   MAKE       MODEL VEHICLECLASS  ENGINESIZE  CYLINDERS  \\\n",
       "0       2014  ACURA         ILX      COMPACT         2.0          4   \n",
       "1       2014  ACURA         ILX      COMPACT         2.4          4   \n",
       "2       2014  ACURA  ILX HYBRID      COMPACT         1.5          4   \n",
       "3       2014  ACURA     MDX 4WD  SUV - SMALL         3.5          6   \n",
       "4       2014  ACURA     RDX AWD  SUV - SMALL         3.5          6   \n",
       "\n",
       "  TRANSMISSION FUELTYPE  FUELCONSUMPTION_CITY  FUELCONSUMPTION_HWY  \\\n",
       "0          AS5        Z                   9.9                  6.7   \n",
       "1           M6        Z                  11.2                  7.7   \n",
       "2          AV7        Z                   6.0                  5.8   \n",
       "3          AS6        Z                  12.7                  9.1   \n",
       "4          AS6        Z                  12.1                  8.7   \n",
       "\n",
       "   FUELCONSUMPTION_COMB  FUELCONSUMPTION_COMB_MPG  CO2EMISSIONS  \n",
       "0                   8.5                        33           196  \n",
       "1                   9.6                        29           221  \n",
       "2                   5.9                        48           136  \n",
       "3                  11.1                        25           255  \n",
       "4                  10.6                        27           244  "
      ]
     },
     "execution_count": 6,
     "metadata": {},
     "output_type": "execute_result"
    }
   ],
   "source": [
    "df = pd.read_csv(\"regression/FuelConsumption.csv\")\n",
    "df.head()"
   ]
  },
  {
   "cell_type": "code",
   "execution_count": 7,
   "metadata": {},
   "outputs": [
    {
     "data": {
      "text/html": [
       "<div>\n",
       "<style scoped>\n",
       "    .dataframe tbody tr th:only-of-type {\n",
       "        vertical-align: middle;\n",
       "    }\n",
       "\n",
       "    .dataframe tbody tr th {\n",
       "        vertical-align: top;\n",
       "    }\n",
       "\n",
       "    .dataframe thead th {\n",
       "        text-align: right;\n",
       "    }\n",
       "</style>\n",
       "<table border=\"1\" class=\"dataframe\">\n",
       "  <thead>\n",
       "    <tr style=\"text-align: right;\">\n",
       "      <th></th>\n",
       "      <th>ENGINESIZE</th>\n",
       "      <th>CYLINDERS</th>\n",
       "      <th>FUELCONSUMPTION_COMB</th>\n",
       "      <th>CO2EMISSIONS</th>\n",
       "    </tr>\n",
       "  </thead>\n",
       "  <tbody>\n",
       "    <tr>\n",
       "      <th>0</th>\n",
       "      <td>2.0</td>\n",
       "      <td>4</td>\n",
       "      <td>8.5</td>\n",
       "      <td>196</td>\n",
       "    </tr>\n",
       "    <tr>\n",
       "      <th>1</th>\n",
       "      <td>2.4</td>\n",
       "      <td>4</td>\n",
       "      <td>9.6</td>\n",
       "      <td>221</td>\n",
       "    </tr>\n",
       "    <tr>\n",
       "      <th>2</th>\n",
       "      <td>1.5</td>\n",
       "      <td>4</td>\n",
       "      <td>5.9</td>\n",
       "      <td>136</td>\n",
       "    </tr>\n",
       "    <tr>\n",
       "      <th>3</th>\n",
       "      <td>3.5</td>\n",
       "      <td>6</td>\n",
       "      <td>11.1</td>\n",
       "      <td>255</td>\n",
       "    </tr>\n",
       "  </tbody>\n",
       "</table>\n",
       "</div>"
      ],
      "text/plain": [
       "   ENGINESIZE  CYLINDERS  FUELCONSUMPTION_COMB  CO2EMISSIONS\n",
       "0         2.0          4                   8.5           196\n",
       "1         2.4          4                   9.6           221\n",
       "2         1.5          4                   5.9           136\n",
       "3         3.5          6                  11.1           255"
      ]
     },
     "execution_count": 7,
     "metadata": {},
     "output_type": "execute_result"
    }
   ],
   "source": [
    "new_df = df[['ENGINESIZE','CYLINDERS','FUELCONSUMPTION_COMB','CO2EMISSIONS']]\n",
    "new_df.head(4)"
   ]
  },
  {
   "cell_type": "code",
   "execution_count": 25,
   "metadata": {},
   "outputs": [
    {
     "data": {
      "image/png": "[encoded data removed]",
      "text/plain": [
       "<Figure size 432x288 with 1 Axes>"
      ]
     },
     "metadata": {
      "needs_background": "light"
     },
     "output_type": "display_data"
    }
   ],
   "source": [
    "plt.scatter(new_df.FUELCONSUMPTION_COMB,new_df.CO2EMISSIONS, color= 'blue')\n",
    "plt.xlabel('fuel')\n",
    "plt.ylabel('co2')\n",
    "plt.show()"
   ]
  },
  {
   "cell_type": "code",
   "execution_count": 26,
   "metadata": {},
   "outputs": [
    {
     "data": {
      "image/png": "[encoded data removed]",
      "text/plain": [
       "<Figure size 432x288 with 1 Axes>"
      ]
     },
     "metadata": {
      "needs_background": "light"
     },
     "output_type": "display_data"
    }
   ],
   "source": [
    "plt.scatter(new_df.ENGINESIZE,new_df.CO2EMISSIONS, color= 'blue')\n",
    "plt.xlabel('ENGINESIZE')\n",
    "plt.ylabel('co2')\n",
    "plt.show()"
   ]
  },
  {
   "cell_type": "code",
   "execution_count": 27,
   "metadata": {},
   "outputs": [
    {
     "data": {
      "image/png": "[encoded data removed]",
      "text/plain": [
       "<Figure size 432x288 with 1 Axes>"
      ]
     },
     "metadata": {
      "needs_background": "light"
     },
     "output_type": "display_data"
    }
   ],
   "source": [
    "plt.scatter(new_df.CYLINDERS,new_df.CO2EMISSIONS, color= 'blue')\n",
    "plt.xlabel('CYLINDERS')\n",
    "plt.ylabel('co2')\n",
    "plt.show()"
   ]
  },
  {
   "cell_type": "code",
   "execution_count": 20,
   "metadata": {},
   "outputs": [
    {
     "data": {
      "text/plain": [
       "213"
      ]
     },
     "execution_count": 20,
     "metadata": {},
     "output_type": "execute_result"
    }
   ],
   "source": [
    "# split the dataset\n",
    "from sklearn.model_selection import train_test_split\n",
    "x = new_df[['ENGINESIZE']]\n",
    "y = new_df.CO2EMISSIONS\n",
    "x_train,x_test, y_train,y_test = train_test_split(x,y, test_size = 0.8)\n",
    "len(x_train)"
   ]
  },
  {
   "cell_type": "code",
   "execution_count": 23,
   "metadata": {},
   "outputs": [
    {
     "data": {
      "text/plain": [
       "array([442.18745685, 232.86079448, 328.3431317 , 262.23997516,\n",
       "       243.87798723, 265.91237275, 324.67073411, 221.84360172,\n",
       "       192.46442103, 328.3431317 , 262.23997516, 262.23997516,\n",
       "       192.46442103, 343.03272204, 243.87798723, 207.15401138,\n",
       "       221.84360172, 350.37751721, 262.23997516, 199.80921621,\n",
       "       207.15401138, 232.86079448, 207.15401138, 207.15401138,\n",
       "       221.84360172, 207.15401138, 225.5159993 , 295.29155343,\n",
       "       207.15401138, 262.23997516, 207.15401138, 221.84360172,\n",
       "       192.46442103, 265.91237275, 269.58477033, 317.32593894,\n",
       "       207.15401138, 243.87798723, 192.46442103, 199.80921621,\n",
       "       262.23997516, 317.32593894, 273.25716792, 295.29155343,\n",
       "       317.32593894, 324.67073411, 192.46442103, 269.58477033,\n",
       "       324.67073411, 273.25716792, 207.15401138, 188.79202345,\n",
       "       265.91237275, 317.32593894, 317.32593894, 265.91237275,\n",
       "       192.46442103, 199.80921621, 262.23997516, 199.80921621,\n",
       "       317.32593894, 221.84360172, 221.84360172, 199.80921621,\n",
       "       207.15401138, 262.23997516, 328.3431317 , 317.32593894,\n",
       "       221.84360172, 207.15401138, 243.87798723, 258.56757757,\n",
       "       265.91237275, 269.58477033, 221.84360172, 207.15401138,\n",
       "       221.84360172, 328.3431317 , 265.91237275, 265.91237275,\n",
       "       306.30874619, 192.46442103, 273.25716792, 291.61915584,\n",
       "       368.73950514, 192.46442103, 192.46442103, 265.91237275,\n",
       "       328.3431317 , 225.5159993 , 265.91237275, 207.15401138,\n",
       "       343.03272204, 265.91237275, 185.11962586, 339.36032446,\n",
       "       262.23997516, 207.15401138, 269.58477033, 287.94675826,\n",
       "       207.15401138, 207.15401138, 265.91237275, 343.03272204,\n",
       "       361.39470997, 225.5159993 , 207.15401138, 188.79202345,\n",
       "       207.15401138, 185.11962586, 207.15401138, 243.87798723,\n",
       "       265.91237275, 262.23997516, 317.32593894, 361.39470997,\n",
       "       295.29155343, 192.46442103, 192.46442103, 335.68792687,\n",
       "       328.3431317 , 207.15401138, 192.46442103, 302.6363486 ,\n",
       "       258.56757757, 207.15401138, 361.39470997, 306.30874619,\n",
       "       207.15401138, 317.32593894, 221.84360172, 243.87798723,\n",
       "       361.39470997, 243.87798723, 361.39470997, 199.80921621,\n",
       "       269.58477033, 243.87798723, 317.32593894, 221.84360172,\n",
       "       221.84360172, 221.84360172, 221.84360172, 262.23997516,\n",
       "       221.84360172, 221.84360172, 265.91237275, 225.5159993 ,\n",
       "       295.29155343, 225.5159993 , 262.23997516, 221.84360172,\n",
       "       207.15401138, 265.91237275, 265.91237275, 269.58477033,\n",
       "       225.5159993 , 309.98114377, 254.89517999, 251.2227824 ,\n",
       "       262.23997516, 335.68792687, 265.91237275, 265.91237275,\n",
       "       243.87798723, 328.3431317 , 280.60196309, 243.87798723,\n",
       "       225.5159993 , 243.87798723, 265.91237275, 317.32593894,\n",
       "       328.3431317 , 207.15401138, 287.94675826, 207.15401138,\n",
       "       306.30874619, 199.80921621, 207.15401138, 269.58477033,\n",
       "       207.15401138, 306.30874619, 207.15401138, 243.87798723,\n",
       "       185.11962586, 207.15401138, 328.3431317 , 317.32593894,\n",
       "       328.3431317 , 280.60196309, 185.11962586, 265.91237275,\n",
       "       306.30874619, 273.25716792, 262.23997516, 225.5159993 ,\n",
       "       265.91237275, 265.91237275, 273.25716792, 265.91237275,\n",
       "       221.84360172, 207.15401138, 265.91237275, 243.87798723,\n",
       "       207.15401138, 335.68792687, 207.15401138, 243.87798723,\n",
       "       262.23997516, 207.15401138, 192.46442103, 207.15401138,\n",
       "       273.25716792])"
      ]
     },
     "execution_count": 23,
     "metadata": {},
     "output_type": "execute_result"
    }
   ],
   "source": [
    "from sklearn import linear_model\n",
    "reg = linear_model.LinearRegression()\n",
    "reg.fit(x_train, y_train)\n",
    "reg.predict(x_train)\n"
   ]
  },
  {
   "cell_type": "code",
   "execution_count": 29,
   "metadata": {},
   "outputs": [
    {
     "name": "stdout",
     "output_type": "stream",
     "text": [
      "Coefficient :- [36.72397586]\n",
      "intercept :- 133.70605966606598\n"
     ]
    }
   ],
   "source": [
    "#find Coefficient and Intercept\n",
    "cof = reg.coef_\n",
    "inpt = reg.intercept_\n",
    "print(\"Coefficient :-\", reg.coef_)\n",
    "print(\"intercept :-\", reg.intercept_)\n"
   ]
  },
  {
   "cell_type": "code",
   "execution_count": 33,
   "metadata": {},
   "outputs": [
    {
     "data": {
      "image/png": "[encoded data removed]",
      "text/plain": [
       "<Figure size 432x288 with 1 Axes>"
      ]
     },
     "metadata": {
      "needs_background": "light"
     },
     "output_type": "display_data"
    }
   ],
   "source": [
    "#create best fit line \n",
    "plt.scatter(new_df.ENGINESIZE,new_df.CO2EMISSIONS, color= 'blue')\n",
    "plt.plot(x_train, cof*x_train+inpt, color = 'r'  )\n",
    "plt.xlabel('ENGINESIZE')\n",
    "plt.ylabel('co2')\n",
    "plt.show()\n"
   ]
  },
  {
   "cell_type": "code",
   "execution_count": null,
   "metadata": {},
   "outputs": [],
   "source": []
  }
 ],
 "metadata": {
  "kernelspec": {
   "display_name": "Python 3",
   "language": "python",
   "name": "python3"
  },
  "language_info": {
   "codemirror_mode": {
    "name": "ipython",
    "version": 3
   },
   "file_extension": ".py",
   "mimetype": "text/x-python",
   "name": "python",
   "nbconvert_exporter": "python",
   "pygments_lexer": "ipython3",
   "version": "3.7.6"
  }
 },
 "nbformat": 4,
 "nbformat_minor": 4
}
